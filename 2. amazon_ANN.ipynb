{
  "nbformat": 4,
  "nbformat_minor": 0,
  "metadata": {
    "colab": {
      "name": "amazon_ANN.ipynb",
      "provenance": [],
      "collapsed_sections": [
        "70Bdn3q5hSFU",
        "Wx54E4dfdklA",
        "T5XLtTH21a5t",
        "jjMUwU3DhfPe",
        "Od9xeKIbhwyG",
        "vA_EIkVb2HlV",
        "an8Vo1wG2SD-",
        "b9QWD9Jf2jlD"
      ]
    },
    "kernelspec": {
      "name": "python3",
      "display_name": "Python 3"
    },
    "language_info": {
      "name": "python"
    }
  },
  "cells": [
    {
      "cell_type": "markdown",
      "metadata": {
        "id": "70Bdn3q5hSFU"
      },
      "source": [
        "## **Importing Libraries**"
      ]
    },
    {
      "cell_type": "code",
      "metadata": {
        "id": "P7WhKYcMyCSW"
      },
      "source": [
        "import pandas as pd\n",
        "import numpy as np\n",
        "\n",
        "%matplotlib inline\n",
        "import matplotlib.pyplot as plt \n",
        "import itertools\n",
        "\n",
        "from gensim.utils import lemmatize\n",
        "\n",
        "from sklearn.preprocessing import LabelEncoder\n",
        "from sklearn.feature_extraction.text import TfidfVectorizer\n",
        "from sklearn import model_selection\n",
        "from sklearn.metrics import accuracy_score, f1_score, precision_score, recall_score, roc_auc_score, roc_curve, confusion_matrix\n",
        "\n",
        "# keras\n",
        "from keras.models import Sequential\n",
        "from keras.layers import Dense, Dropout\n",
        "from keras.layers.core import Reshape, Flatten\n",
        "from keras.callbacks import EarlyStopping\n",
        "from keras.optimizers import Adam"
      ],
      "execution_count": null,
      "outputs": []
    },
    {
      "cell_type": "code",
      "metadata": {
        "colab": {
          "base_uri": "https://localhost:8080/"
        },
        "id": "RgB_jJLNwyWg",
        "outputId": "ebfc1927-fb6a-4fee-86ee-e69666ab8756"
      },
      "source": [
        "!pip install pattern"
      ],
      "execution_count": null,
      "outputs": [
        {
          "output_type": "stream",
          "text": [
            "Collecting pattern\n",
            "\u001b[?25l  Downloading https://files.pythonhosted.org/packages/1e/07/b0e61b6c818ed4b6145fe01d1c341223aa6cfbc3928538ad1f2b890924a3/Pattern-3.6.0.tar.gz (22.2MB)\n",
            "\u001b[K     |████████████████████████████████| 22.3MB 1.6MB/s \n",
            "\u001b[?25hRequirement already satisfied: future in /usr/local/lib/python3.7/dist-packages (from pattern) (0.16.0)\n",
            "Collecting backports.csv\n",
            "  Downloading https://files.pythonhosted.org/packages/8e/26/a6bd68f13e0f38fbb643d6e497fc3462be83a0b6c4d43425c78bb51a7291/backports.csv-1.0.7-py2.py3-none-any.whl\n",
            "Collecting mysqlclient\n",
            "\u001b[?25l  Downloading https://files.pythonhosted.org/packages/3c/df/59cd2fa5e48d0804d213bdcb1acb4d08c403b61c7ff7ed4dd4a6a2deb3f7/mysqlclient-2.0.3.tar.gz (88kB)\n",
            "\u001b[K     |████████████████████████████████| 92kB 8.7MB/s \n",
            "\u001b[?25hRequirement already satisfied: beautifulsoup4 in /usr/local/lib/python3.7/dist-packages (from pattern) (4.6.3)\n",
            "Requirement already satisfied: lxml in /usr/local/lib/python3.7/dist-packages (from pattern) (4.2.6)\n",
            "Collecting feedparser\n",
            "\u001b[?25l  Downloading https://files.pythonhosted.org/packages/1c/21/faf1bac028662cc8adb2b5ef7a6f3999a765baa2835331df365289b0ca56/feedparser-6.0.2-py3-none-any.whl (80kB)\n",
            "\u001b[K     |████████████████████████████████| 81kB 8.6MB/s \n",
            "\u001b[?25hCollecting pdfminer.six\n",
            "\u001b[?25l  Downloading https://files.pythonhosted.org/packages/93/f3/4fec7dabe8802ebec46141345bf714cd1fc7d93cb74ddde917e4b6d97d88/pdfminer.six-20201018-py3-none-any.whl (5.6MB)\n",
            "\u001b[K     |████████████████████████████████| 5.6MB 44.8MB/s \n",
            "\u001b[?25hRequirement already satisfied: numpy in /usr/local/lib/python3.7/dist-packages (from pattern) (1.19.5)\n",
            "Requirement already satisfied: scipy in /usr/local/lib/python3.7/dist-packages (from pattern) (1.4.1)\n",
            "Requirement already satisfied: nltk in /usr/local/lib/python3.7/dist-packages (from pattern) (3.2.5)\n",
            "Collecting python-docx\n",
            "\u001b[?25l  Downloading https://files.pythonhosted.org/packages/e4/83/c66a1934ed5ed8ab1dbb9931f1779079f8bca0f6bbc5793c06c4b5e7d671/python-docx-0.8.10.tar.gz (5.5MB)\n",
            "\u001b[K     |████████████████████████████████| 5.5MB 34.8MB/s \n",
            "\u001b[?25hCollecting cherrypy\n",
            "\u001b[?25l  Downloading https://files.pythonhosted.org/packages/a8/f9/e11f893dcabe6bc222a1442bf5e14f0322a2d363c92910ed41947078a35a/CherryPy-18.6.0-py2.py3-none-any.whl (419kB)\n",
            "\u001b[K     |████████████████████████████████| 419kB 45.6MB/s \n",
            "\u001b[?25hRequirement already satisfied: requests in /usr/local/lib/python3.7/dist-packages (from pattern) (2.23.0)\n",
            "Collecting sgmllib3k\n",
            "  Downloading https://files.pythonhosted.org/packages/9e/bd/3704a8c3e0942d711c1299ebf7b9091930adae6675d7c8f476a7ce48653c/sgmllib3k-1.0.0.tar.gz\n",
            "Requirement already satisfied: sortedcontainers in /usr/local/lib/python3.7/dist-packages (from pdfminer.six->pattern) (2.3.0)\n",
            "Collecting cryptography\n",
            "\u001b[?25l  Downloading https://files.pythonhosted.org/packages/b2/26/7af637e6a7e87258b963f1731c5982fb31cd507f0d90d91836e446955d02/cryptography-3.4.7-cp36-abi3-manylinux2014_x86_64.whl (3.2MB)\n",
            "\u001b[K     |████████████████████████████████| 3.2MB 37.5MB/s \n",
            "\u001b[?25hRequirement already satisfied: chardet; python_version > \"3.0\" in /usr/local/lib/python3.7/dist-packages (from pdfminer.six->pattern) (3.0.4)\n",
            "Requirement already satisfied: six in /usr/local/lib/python3.7/dist-packages (from nltk->pattern) (1.15.0)\n",
            "Collecting jaraco.collections\n",
            "  Downloading https://files.pythonhosted.org/packages/d5/1a/a0d6861d2aca6df92643c755966c8a60e40353e4c5e7a5c2f4e5ed733817/jaraco.collections-3.3.0-py3-none-any.whl\n",
            "Requirement already satisfied: more-itertools in /usr/local/lib/python3.7/dist-packages (from cherrypy->pattern) (8.7.0)\n",
            "Collecting zc.lockfile\n",
            "  Downloading https://files.pythonhosted.org/packages/6c/2a/268389776288f0f26c7272c70c36c96dcc0bdb88ab6216ea18e19df1fadd/zc.lockfile-2.0-py2.py3-none-any.whl\n",
            "Collecting cheroot>=8.2.1\n",
            "\u001b[?25l  Downloading https://files.pythonhosted.org/packages/46/95/86fe6480af78fea7b0e7e1bf02e6acd4cb9e561ea200bd6d6e1398fe5426/cheroot-8.5.2-py2.py3-none-any.whl (97kB)\n",
            "\u001b[K     |████████████████████████████████| 102kB 9.6MB/s \n",
            "\u001b[?25hCollecting portend>=2.1.1\n",
            "  Downloading https://files.pythonhosted.org/packages/b8/a1/fd29409cced540facdd29abb986d988cb1f22c8170d10022ea73af77fa55/portend-2.7.1-py3-none-any.whl\n",
            "Requirement already satisfied: idna<3,>=2.5 in /usr/local/lib/python3.7/dist-packages (from requests->pattern) (2.10)\n",
            "Requirement already satisfied: certifi>=2017.4.17 in /usr/local/lib/python3.7/dist-packages (from requests->pattern) (2020.12.5)\n",
            "Requirement already satisfied: urllib3!=1.25.0,!=1.25.1,<1.26,>=1.21.1 in /usr/local/lib/python3.7/dist-packages (from requests->pattern) (1.24.3)\n",
            "Requirement already satisfied: cffi>=1.12 in /usr/local/lib/python3.7/dist-packages (from cryptography->pdfminer.six->pattern) (1.14.5)\n",
            "Collecting jaraco.classes\n",
            "  Downloading https://files.pythonhosted.org/packages/b8/74/bee5fc11594974746535117546404678fc7b899476e769c3c55bc0cfaa02/jaraco.classes-3.2.1-py3-none-any.whl\n",
            "Collecting jaraco.text\n",
            "  Downloading https://files.pythonhosted.org/packages/c1/74/2a3c4835c079df16db8a9c50263eebb0125849fee5b16de353a059b7545d/jaraco.text-3.5.0-py3-none-any.whl\n",
            "Requirement already satisfied: setuptools in /usr/local/lib/python3.7/dist-packages (from zc.lockfile->cherrypy->pattern) (56.0.0)\n",
            "Collecting jaraco.functools\n",
            "  Downloading https://files.pythonhosted.org/packages/b5/da/e51e7b58c8fe132990edd1e3ef25bcd9801eb7f91d0f642ac7f8d97e4a36/jaraco.functools-3.3.0-py3-none-any.whl\n",
            "Collecting tempora>=1.8\n",
            "  Downloading https://files.pythonhosted.org/packages/44/83/4d5c3de53bbc463f30ab6764e27bc2e8ed9b59736e8b40d95403ff802008/tempora-4.0.2-py3-none-any.whl\n",
            "Requirement already satisfied: pycparser in /usr/local/lib/python3.7/dist-packages (from cffi>=1.12->cryptography->pdfminer.six->pattern) (2.20)\n",
            "Requirement already satisfied: pytz in /usr/local/lib/python3.7/dist-packages (from tempora>=1.8->portend>=2.1.1->cherrypy->pattern) (2018.9)\n",
            "Building wheels for collected packages: pattern, mysqlclient, python-docx, sgmllib3k\n",
            "  Building wheel for pattern (setup.py) ... \u001b[?25l\u001b[?25hdone\n",
            "  Created wheel for pattern: filename=Pattern-3.6-cp37-none-any.whl size=22332724 sha256=f0db377adaba0bcb59e55a4046495d9b7d6cb2dc61a6dd123274ad5d886b0ccb\n",
            "  Stored in directory: /root/.cache/pip/wheels/dc/9a/0e/5fb1a603ed4e3aa8722a88e9cf4a82da7d1b63e3d2cc34bee5\n",
            "  Building wheel for mysqlclient (setup.py) ... \u001b[?25l\u001b[?25hdone\n",
            "  Created wheel for mysqlclient: filename=mysqlclient-2.0.3-cp37-cp37m-linux_x86_64.whl size=100104 sha256=a5d7fa7d5b24c5f4abb4ad17d3ca36e5ddf007530c234d5739a5754d8d904fe0\n",
            "  Stored in directory: /root/.cache/pip/wheels/75/ca/e8/ad4e7ce3df18bcd91c7d84dd28c7c08db491a2a2360efed363\n",
            "  Building wheel for python-docx (setup.py) ... \u001b[?25l\u001b[?25hdone\n",
            "  Created wheel for python-docx: filename=python_docx-0.8.10-cp37-none-any.whl size=184491 sha256=ede29d7c29f053bcbd54f44345f9c487f52a9780b546d2ccc370776fc6592132\n",
            "  Stored in directory: /root/.cache/pip/wheels/18/0b/a0/1dd62ff812c857c9e487f27d80d53d2b40531bec1acecfa47b\n",
            "  Building wheel for sgmllib3k (setup.py) ... \u001b[?25l\u001b[?25hdone\n",
            "  Created wheel for sgmllib3k: filename=sgmllib3k-1.0.0-cp37-none-any.whl size=6067 sha256=08bce4689642f44b017591903974493cef34503f96fb8f525d9a9666ba84c87d\n",
            "  Stored in directory: /root/.cache/pip/wheels/f1/80/5a/444ba08a550cdd241bd9baf8bae44be750efe370adb944506a\n",
            "Successfully built pattern mysqlclient python-docx sgmllib3k\n",
            "Installing collected packages: backports.csv, mysqlclient, sgmllib3k, feedparser, cryptography, pdfminer.six, python-docx, jaraco.classes, jaraco.functools, jaraco.text, jaraco.collections, zc.lockfile, cheroot, tempora, portend, cherrypy, pattern\n",
            "Successfully installed backports.csv-1.0.7 cheroot-8.5.2 cherrypy-18.6.0 cryptography-3.4.7 feedparser-6.0.2 jaraco.classes-3.2.1 jaraco.collections-3.3.0 jaraco.functools-3.3.0 jaraco.text-3.5.0 mysqlclient-2.0.3 pattern-3.6 pdfminer.six-20201018 portend-2.7.1 python-docx-0.8.10 sgmllib3k-1.0.0 tempora-4.0.2 zc.lockfile-2.0\n"
          ],
          "name": "stdout"
        }
      ]
    },
    {
      "cell_type": "markdown",
      "metadata": {
        "id": "Wx54E4dfdklA"
      },
      "source": [
        "## **Loading the Data**"
      ]
    },
    {
      "cell_type": "code",
      "metadata": {
        "colab": {
          "base_uri": "https://localhost:8080/"
        },
        "id": "9a1RR-Me48WS",
        "outputId": "8d8cbcf8-d8e7-49b0-955c-2377b0cd8ab1"
      },
      "source": [
        "from google.colab import drive\n",
        "drive.mount('/content/drive')"
      ],
      "execution_count": null,
      "outputs": [
        {
          "output_type": "stream",
          "text": [
            "Drive already mounted at /content/drive; to attempt to forcibly remount, call drive.mount(\"/content/drive\", force_remount=True).\n"
          ],
          "name": "stdout"
        }
      ]
    },
    {
      "cell_type": "code",
      "metadata": {
        "id": "bdIGPQ3nPVUH"
      },
      "source": [
        "Corpus = pd.read_csv(\"drive/MyDrive/Dataset_Sentiment/amazon_reviews.csv\",encoding='latin-1')"
      ],
      "execution_count": null,
      "outputs": []
    },
    {
      "cell_type": "code",
      "metadata": {
        "colab": {
          "base_uri": "https://localhost:8080/"
        },
        "id": "UpP60AGce3Ll",
        "outputId": "36d32f48-4905-48b7-e90c-0a0855e6a144"
      },
      "source": [
        "Corpus.info()"
      ],
      "execution_count": null,
      "outputs": [
        {
          "output_type": "stream",
          "text": [
            "<class 'pandas.core.frame.DataFrame'>\n",
            "RangeIndex: 1000 entries, 0 to 999\n",
            "Data columns (total 2 columns):\n",
            " #   Column    Non-Null Count  Dtype \n",
            "---  ------    --------------  ----- \n",
            " 0   Review    1000 non-null   object\n",
            " 1   Polarity  1000 non-null   int64 \n",
            "dtypes: int64(1), object(1)\n",
            "memory usage: 15.8+ KB\n"
          ],
          "name": "stdout"
        }
      ]
    },
    {
      "cell_type": "code",
      "metadata": {
        "colab": {
          "base_uri": "https://localhost:8080/"
        },
        "id": "onyUtldu7INn",
        "outputId": "41d51b21-88ef-4b19-c2a9-b36941d7b56d"
      },
      "source": [
        "Corpus.head(2)"
      ],
      "execution_count": null,
      "outputs": [
        {
          "output_type": "execute_result",
          "data": {
            "text/html": [
              "<div>\n",
              "<style scoped>\n",
              "    .dataframe tbody tr th:only-of-type {\n",
              "        vertical-align: middle;\n",
              "    }\n",
              "\n",
              "    .dataframe tbody tr th {\n",
              "        vertical-align: top;\n",
              "    }\n",
              "\n",
              "    .dataframe thead th {\n",
              "        text-align: right;\n",
              "    }\n",
              "</style>\n",
              "<table border=\"1\" class=\"dataframe\">\n",
              "  <thead>\n",
              "    <tr style=\"text-align: right;\">\n",
              "      <th></th>\n",
              "      <th>Review</th>\n",
              "      <th>Polarity</th>\n",
              "    </tr>\n",
              "  </thead>\n",
              "  <tbody>\n",
              "    <tr>\n",
              "      <th>0</th>\n",
              "      <td>So there is no way for me to plug it in here i...</td>\n",
              "      <td>0</td>\n",
              "    </tr>\n",
              "    <tr>\n",
              "      <th>1</th>\n",
              "      <td>Good case, Excellent value.</td>\n",
              "      <td>1</td>\n",
              "    </tr>\n",
              "  </tbody>\n",
              "</table>\n",
              "</div>"
            ],
            "text/plain": [
              "                                              Review  Polarity\n",
              "0  So there is no way for me to plug it in here i...         0\n",
              "1                        Good case, Excellent value.         1"
            ]
          },
          "metadata": {
            "tags": []
          },
          "execution_count": 7
        }
      ]
    },
    {
      "cell_type": "markdown",
      "metadata": {
        "id": "T5XLtTH21a5t"
      },
      "source": [
        "## **1. Data Pre-processing**\n",
        "This will help in getting better results through the classification algorithms"
      ]
    },
    {
      "cell_type": "markdown",
      "metadata": {
        "id": "jjMUwU3DhfPe"
      },
      "source": [
        "### **1.1 Convert the text to lower case**\n",
        "This is required as python interprets 'text', 'Text' and 'TEXT' differently."
      ]
    },
    {
      "cell_type": "code",
      "metadata": {
        "id": "KxBdgXr71uKB"
      },
      "source": [
        "Corpus['Review'] = [text.lower() for text in Corpus['Review']]"
      ],
      "execution_count": null,
      "outputs": []
    },
    {
      "cell_type": "code",
      "metadata": {
        "colab": {
          "base_uri": "https://localhost:8080/"
        },
        "id": "BdjIHdXUjmda",
        "outputId": "bfc55355-5323-4e92-b71b-def0633acde5"
      },
      "source": [
        "Corpus['Review'].head(2)"
      ],
      "execution_count": null,
      "outputs": [
        {
          "output_type": "execute_result",
          "data": {
            "text/plain": [
              "0    so there is no way for me to plug it in here i...\n",
              "1                          good case, excellent value.\n",
              "Name: Review, dtype: object"
            ]
          },
          "metadata": {
            "tags": []
          },
          "execution_count": 9
        }
      ]
    },
    {
      "cell_type": "markdown",
      "metadata": {
        "id": "Od9xeKIbhwyG"
      },
      "source": [
        "### **1.2 Text Lemmatization**"
      ]
    },
    {
      "cell_type": "code",
      "metadata": {
        "id": "DEdwEIsAwJbm"
      },
      "source": [
        "for index,text in enumerate(Corpus['Review']):\n",
        "  \n",
        "  lem_sen = [word.decode('utf-8').split('/')[0] for word in lemmatize(text)]\n",
        "\n",
        "  Corpus.loc[index,'review_words'] = str(lem_sen)"
      ],
      "execution_count": null,
      "outputs": []
    },
    {
      "cell_type": "code",
      "metadata": {
        "colab": {
          "base_uri": "https://localhost:8080/"
        },
        "id": "2sfOisifyAP7",
        "outputId": "02c7b4de-1ae4-4306-da75-55261f3df4d4"
      },
      "source": [
        "Corpus['review_words'].head()"
      ],
      "execution_count": null,
      "outputs": [
        {
          "output_type": "execute_result",
          "data": {
            "text/plain": [
              "0     ['be', 'way', 'plug', 'here', 'go', 'converter']\n",
              "1               ['good', 'case', 'excellent', 'value']\n",
              "2                                 ['great', 'jawbone']\n",
              "3    ['tie', 'charger', 'conversation', 'last', 'mo...\n",
              "4                               ['mic', 'be', 'great']\n",
              "Name: review_words, dtype: object"
            ]
          },
          "metadata": {
            "tags": []
          },
          "execution_count": 14
        }
      ]
    },
    {
      "cell_type": "markdown",
      "metadata": {
        "id": "vA_EIkVb2HlV"
      },
      "source": [
        "## **2. Split the model into Train, Val and Test Dataset**"
      ]
    },
    {
      "cell_type": "code",
      "metadata": {
        "id": "uclSzE0v2EMQ"
      },
      "source": [
        "Train_X, Test_X, Train_Y, Test_Y = model_selection.train_test_split(Corpus['review_words'],Corpus['Polarity'],test_size=0.4, random_state=123)\n",
        "\n",
        "Test_X, Val_X, Test_Y, Val_Y = model_selection.train_test_split(Test_X, Test_Y, test_size=0.5, random_state=123)"
      ],
      "execution_count": null,
      "outputs": []
    },
    {
      "cell_type": "markdown",
      "metadata": {
        "id": "an8Vo1wG2SD-"
      },
      "source": [
        "## **3. Label encode the target variable**  \n",
        "This is done to transform Categorical data of string type in the data set into numerical values"
      ]
    },
    {
      "cell_type": "code",
      "metadata": {
        "id": "0TO35buS2ezb"
      },
      "source": [
        "Encoder = LabelEncoder()\n",
        "Train_Y = Encoder.fit_transform(Train_Y)\n",
        "Val_Y = Encoder.fit_transform(Val_Y)\n",
        "Test_Y = Encoder.fit_transform(Test_Y)"
      ],
      "execution_count": null,
      "outputs": []
    },
    {
      "cell_type": "markdown",
      "metadata": {
        "id": "b9QWD9Jf2jlD"
      },
      "source": [
        "## **4. Vectorize the words by using TF-IDF Vectorizer** \n",
        "This is done to find how important a word in document is in comaprison to the corpus"
      ]
    },
    {
      "cell_type": "code",
      "metadata": {
        "id": "E4h7q5pF2jO-",
        "colab": {
          "base_uri": "https://localhost:8080/"
        },
        "outputId": "af8b1f81-6920-4b6b-9206-8c87cf776c7a"
      },
      "source": [
        "Tfidf_vect = TfidfVectorizer(decode_error='ignore')\n",
        "Tfidf_vect.fit(Train_X)"
      ],
      "execution_count": null,
      "outputs": [
        {
          "output_type": "execute_result",
          "data": {
            "text/plain": [
              "TfidfVectorizer(analyzer='word', binary=False, decode_error='ignore',\n",
              "                dtype=<class 'numpy.float64'>, encoding='utf-8',\n",
              "                input='content', lowercase=True, max_df=1.0, max_features=None,\n",
              "                min_df=1, ngram_range=(1, 1), norm='l2', preprocessor=None,\n",
              "                smooth_idf=True, stop_words=None, strip_accents=None,\n",
              "                sublinear_tf=False, token_pattern='(?u)\\\\b\\\\w\\\\w+\\\\b',\n",
              "                tokenizer=None, use_idf=True, vocabulary=None)"
            ]
          },
          "metadata": {
            "tags": []
          },
          "execution_count": 17
        }
      ]
    },
    {
      "cell_type": "code",
      "metadata": {
        "id": "b6JTGow7hEXi"
      },
      "source": [
        "Train_X_Tfidf = Tfidf_vect.transform(Train_X)\n",
        "Val_X_Tfidf = Tfidf_vect.transform(Val_X)\n",
        "Test_X_Tfidf = Tfidf_vect.transform(Test_X)"
      ],
      "execution_count": null,
      "outputs": []
    },
    {
      "cell_type": "code",
      "metadata": {
        "colab": {
          "base_uri": "https://localhost:8080/"
        },
        "id": "OnDaOKcEhODm",
        "outputId": "43edf48e-4f9e-42a7-dee5-007c5a7c4ce0"
      },
      "source": [
        "Train_X_Tfidf"
      ],
      "execution_count": null,
      "outputs": [
        {
          "output_type": "execute_result",
          "data": {
            "text/plain": [
              "<600x1054 sparse matrix of type '<class 'numpy.float64'>'\n",
              "\twith 3585 stored elements in Compressed Sparse Row format>"
            ]
          },
          "metadata": {
            "tags": []
          },
          "execution_count": 19
        }
      ]
    },
    {
      "cell_type": "code",
      "metadata": {
        "id": "PSLYxsdtenbp"
      },
      "source": [
        "TrainX = np.asarray(Train_X_Tfidf.todense())\n",
        "ValX = np.asarray(Val_X_Tfidf.todense())\n",
        "TestX = np.asarray(Test_X_Tfidf.todense())"
      ],
      "execution_count": null,
      "outputs": []
    },
    {
      "cell_type": "code",
      "metadata": {
        "colab": {
          "base_uri": "https://localhost:8080/"
        },
        "id": "t933qM-BhiXj",
        "outputId": "476f51bb-8102-4970-9662-3a9b7a0bcd6c"
      },
      "source": [
        "TrainX.dtype, ValX.dtype, TestX.dtype"
      ],
      "execution_count": null,
      "outputs": [
        {
          "output_type": "execute_result",
          "data": {
            "text/plain": [
              "(dtype('float64'), dtype('float64'), dtype('float64'))"
            ]
          },
          "metadata": {
            "tags": []
          },
          "execution_count": 21
        }
      ]
    },
    {
      "cell_type": "code",
      "metadata": {
        "colab": {
          "base_uri": "https://localhost:8080/"
        },
        "id": "RfL198qEit-P",
        "outputId": "8855b4f3-6356-4f1a-91de-491ab437deba"
      },
      "source": [
        "TrainX.shape, ValX.shape, TestX.shape"
      ],
      "execution_count": null,
      "outputs": [
        {
          "output_type": "execute_result",
          "data": {
            "text/plain": [
              "((600, 1054), (200, 1054), (200, 1054))"
            ]
          },
          "metadata": {
            "tags": []
          },
          "execution_count": 22
        }
      ]
    },
    {
      "cell_type": "markdown",
      "metadata": {
        "id": "pCENAB8Q2vWh"
      },
      "source": [
        "## **5. Review Classification Algorithm- ANN**"
      ]
    },
    {
      "cell_type": "code",
      "metadata": {
        "colab": {
          "base_uri": "https://localhost:8080/"
        },
        "id": "i-WwR7vetKOZ",
        "outputId": "d6f9bc6f-e76a-4fb1-bcf2-fc82f749568d"
      },
      "source": [
        "ip_dim = TrainX.shape[1]\n",
        "ip_dim"
      ],
      "execution_count": null,
      "outputs": [
        {
          "output_type": "execute_result",
          "data": {
            "text/plain": [
              "1054"
            ]
          },
          "metadata": {
            "tags": []
          },
          "execution_count": 23
        }
      ]
    },
    {
      "cell_type": "markdown",
      "metadata": {
        "id": "qg7k7849h2IV"
      },
      "source": [
        "### **5.1 Build network and train it untill validation loss reduces (EarlyStopping)**"
      ]
    },
    {
      "cell_type": "code",
      "metadata": {
        "id": "_XUgICwDyTGM"
      },
      "source": [
        "model1 = Sequential()\n",
        "model1.add(Dense(64, input_dim=ip_dim, activation='relu'))\n",
        "model1.add(Dense(32, activation='relu'))\n",
        "model1.add(Dense(1, activation='sigmoid'))"
      ],
      "execution_count": null,
      "outputs": []
    },
    {
      "cell_type": "code",
      "metadata": {
        "id": "vlszGAWcyrUv"
      },
      "source": [
        "# compiling model using Adam optimizer\n",
        "opt = Adam(lr=1e-3)\n",
        "model1.compile(loss='binary_crossentropy', optimizer=opt, metrics= ['accuracy'])"
      ],
      "execution_count": null,
      "outputs": []
    },
    {
      "cell_type": "code",
      "metadata": {
        "colab": {
          "base_uri": "https://localhost:8080/"
        },
        "id": "M8ZfWf4RyvgJ",
        "outputId": "2376d6fc-5a5d-46bf-e630-775689c24baa"
      },
      "source": [
        "# fitting model to the data\n",
        "callbacks = [EarlyStopping(monitor='val_loss')]\n",
        "hist_adam = model1.fit(TrainX, np.asarray(Train_Y), batch_size=100, epochs=30, verbose = 2, validation_data=(ValX, np.asarray(Val_Y)), callbacks= callbacks) "
      ],
      "execution_count": null,
      "outputs": [
        {
          "output_type": "stream",
          "text": [
            "Epoch 1/30\n",
            "6/6 - 1s - loss: 0.6923 - accuracy: 0.5133 - val_loss: 0.6903 - val_accuracy: 0.5600\n",
            "Epoch 2/30\n",
            "6/6 - 0s - loss: 0.6821 - accuracy: 0.7133 - val_loss: 0.6860 - val_accuracy: 0.6300\n",
            "Epoch 3/30\n",
            "6/6 - 0s - loss: 0.6708 - accuracy: 0.8317 - val_loss: 0.6792 - val_accuracy: 0.6800\n",
            "Epoch 4/30\n",
            "6/6 - 0s - loss: 0.6550 - accuracy: 0.8933 - val_loss: 0.6688 - val_accuracy: 0.6900\n",
            "Epoch 5/30\n",
            "6/6 - 0s - loss: 0.6324 - accuracy: 0.9267 - val_loss: 0.6544 - val_accuracy: 0.7250\n",
            "Epoch 6/30\n",
            "6/6 - 0s - loss: 0.6020 - accuracy: 0.9450 - val_loss: 0.6340 - val_accuracy: 0.7450\n",
            "Epoch 7/30\n",
            "6/6 - 0s - loss: 0.5614 - accuracy: 0.9600 - val_loss: 0.6079 - val_accuracy: 0.7600\n",
            "Epoch 8/30\n",
            "6/6 - 0s - loss: 0.5115 - accuracy: 0.9700 - val_loss: 0.5758 - val_accuracy: 0.7700\n",
            "Epoch 9/30\n",
            "6/6 - 0s - loss: 0.4521 - accuracy: 0.9783 - val_loss: 0.5400 - val_accuracy: 0.7850\n",
            "Epoch 10/30\n",
            "6/6 - 0s - loss: 0.3875 - accuracy: 0.9867 - val_loss: 0.5011 - val_accuracy: 0.7900\n",
            "Epoch 11/30\n",
            "6/6 - 0s - loss: 0.3210 - accuracy: 0.9900 - val_loss: 0.4685 - val_accuracy: 0.7900\n",
            "Epoch 12/30\n",
            "6/6 - 0s - loss: 0.2586 - accuracy: 0.9900 - val_loss: 0.4380 - val_accuracy: 0.8000\n",
            "Epoch 13/30\n",
            "6/6 - 0s - loss: 0.2033 - accuracy: 0.9900 - val_loss: 0.4141 - val_accuracy: 0.8150\n",
            "Epoch 14/30\n",
            "6/6 - 0s - loss: 0.1580 - accuracy: 0.9917 - val_loss: 0.3988 - val_accuracy: 0.8200\n",
            "Epoch 15/30\n",
            "6/6 - 0s - loss: 0.1218 - accuracy: 0.9967 - val_loss: 0.3907 - val_accuracy: 0.8350\n",
            "Epoch 16/30\n",
            "6/6 - 0s - loss: 0.0946 - accuracy: 0.9983 - val_loss: 0.3886 - val_accuracy: 0.8200\n",
            "Epoch 17/30\n",
            "6/6 - 0s - loss: 0.0737 - accuracy: 0.9983 - val_loss: 0.3875 - val_accuracy: 0.8400\n",
            "Epoch 18/30\n",
            "6/6 - 0s - loss: 0.0585 - accuracy: 0.9983 - val_loss: 0.3902 - val_accuracy: 0.8450\n"
          ],
          "name": "stdout"
        }
      ]
    },
    {
      "cell_type": "code",
      "metadata": {
        "colab": {
          "base_uri": "https://localhost:8080/",
          "height": 330
        },
        "id": "joNstMrYuEmP",
        "outputId": "8662d1c5-6700-4dd1-98d8-dd4efe3643c4"
      },
      "source": [
        "#plotting Loss\n",
        "plt.suptitle('Optimizer : Adam', fontsize=10)\n",
        "plt.ylabel('Loss', fontsize=16)\n",
        "plt.xlabel('Epoch', fontsize=14)\n",
        "plt.plot(hist_adam.history['loss'], color='b', label='Training Loss')\n",
        "plt.plot(hist_adam.history['val_loss'], color='r', label='Validation Loss')\n",
        "plt.legend(loc='upper right')"
      ],
      "execution_count": null,
      "outputs": [
        {
          "output_type": "execute_result",
          "data": {
            "text/plain": [
              "<matplotlib.legend.Legend at 0x7f34b058e210>"
            ]
          },
          "metadata": {
            "tags": []
          },
          "execution_count": 27
        },
        {
          "output_type": "display_data",
          "data": {
            "image/png": "[encoded data removed]",
            "text/plain": [
              "<Figure size 432x288 with 1 Axes>"
            ]
          },
          "metadata": {
            "tags": [],
            "needs_background": "light"
          }
        }
      ]
    },
    {
      "cell_type": "markdown",
      "metadata": {
        "id": "cWb2sxNTh7XI"
      },
      "source": [
        "### **5.2 Predict on Test data**"
      ]
    },
    {
      "cell_type": "code",
      "metadata": {
        "id": "Y1cFAAYBueE8"
      },
      "source": [
        "pred_train = model1.predict(TrainX)\n",
        "pred_test = model1.predict(TestX)\n",
        "pred_val = model1.predict(ValX)"
      ],
      "execution_count": null,
      "outputs": []
    },
    {
      "cell_type": "code",
      "metadata": {
        "id": "ZOwWAtEbvr4K",
        "colab": {
          "base_uri": "https://localhost:8080/"
        },
        "outputId": "c960b99f-89ed-4c87-ecb1-8e01737cc20e"
      },
      "source": [
        "AUC = np.array([roc_auc_score(Train_Y, pred_train),\n",
        "                roc_auc_score(Val_Y, pred_val),\n",
        "                roc_auc_score(Test_Y, pred_test)])\n",
        "AUC"
      ],
      "execution_count": null,
      "outputs": [
        {
          "output_type": "execute_result",
          "data": {
            "text/plain": [
              "array([1.        , 0.90616459, 0.91162046])"
            ]
          },
          "metadata": {
            "tags": []
          },
          "execution_count": 29
        }
      ]
    },
    {
      "cell_type": "code",
      "metadata": {
        "id": "JmSzwyz3rx_S"
      },
      "source": [
        "fpr, tpr, thresholds = roc_curve(Test_Y, pred_test)"
      ],
      "execution_count": null,
      "outputs": []
    },
    {
      "cell_type": "code",
      "metadata": {
        "colab": {
          "base_uri": "https://localhost:8080/",
          "height": 294
        },
        "id": "qEmWSdkAh0FZ",
        "outputId": "5997815c-c629-4a64-998d-c11d2ef537f0"
      },
      "source": [
        "plt.plot([0, 1], [0, 1], 'k--')\n",
        "plt.plot(fpr, tpr, label='AUC = {:.3f})'.format(AUC[2]))\n",
        "plt.xlabel('False positive rate')\n",
        "plt.ylabel('True positive rate')\n",
        "plt.title('ROC curve')\n",
        "plt.legend()\n",
        "plt.show()"
      ],
      "execution_count": null,
      "outputs": [
        {
          "output_type": "display_data",
          "data": {
            "image/png": "[encoded data removed]",
            "text/plain": [
              "<Figure size 432x288 with 1 Axes>"
            ]
          },
          "metadata": {
            "tags": [],
            "needs_background": "light"
          }
        }
      ]
    },
    {
      "cell_type": "code",
      "metadata": {
        "id": "MXbC9DkitfDn"
      },
      "source": [
        "test_pred = (pred_test > 0.5).astype(\"int32\").ravel()"
      ],
      "execution_count": null,
      "outputs": []
    },
    {
      "cell_type": "code",
      "metadata": {
        "id": "0H1Po9tSToeq"
      },
      "source": [
        "cm = confusion_matrix(y_true= Test_Y, y_pred=test_pred)\n",
        "plot_labels = [0,1]"
      ],
      "execution_count": null,
      "outputs": []
    },
    {
      "cell_type": "code",
      "metadata": {
        "id": "nVWRILLxUjId"
      },
      "source": [
        "def plot_confusion_matrix(cm, classes, normalize=False,\n",
        "                        title='Confusion matrix',\n",
        "                        cmap=plt.cm.Blues):\n",
        "    \n",
        "    plt.imshow(cm, interpolation='nearest', cmap=cmap)\n",
        "    plt.title(title)\n",
        "    plt.colorbar()\n",
        "    tick_marks = np.arange(len(classes))\n",
        "    plt.xticks(tick_marks, classes)\n",
        "    plt.yticks(tick_marks, classes)\n",
        "\n",
        "    thresh = cm.max() / 2.\n",
        "    for i, j in itertools.product(range(cm.shape[0]), range(cm.shape[1])):\n",
        "        plt.text(j, i, cm[i, j], fontsize= 'xx-large',\n",
        "            horizontalalignment=\"center\",\n",
        "            color=\"white\" if cm[i, j] > thresh else \"black\")\n",
        "\n",
        "    plt.tight_layout()\n",
        "    plt.ylabel('True label')\n",
        "    plt.xlabel('Predicted label')"
      ],
      "execution_count": null,
      "outputs": []
    },
    {
      "cell_type": "code",
      "metadata": {
        "colab": {
          "base_uri": "https://localhost:8080/",
          "height": 311
        },
        "id": "_mz72QhVVKf1",
        "outputId": "163f0973-c1cc-4944-e95d-52295176c025"
      },
      "source": [
        "plot_confusion_matrix(cm=cm, classes=plot_labels, title='Confusion Matrix')"
      ],
      "execution_count": null,
      "outputs": [
        {
          "output_type": "display_data",
          "data": {
            "image/png": "[encoded data removed]",
            "text/plain": [
              "<Figure size 432x288 with 2 Axes>"
            ]
          },
          "metadata": {
            "tags": [],
            "needs_background": "light"
          }
        }
      ]
    },
    {
      "cell_type": "code",
      "metadata": {
        "id": "-A68Gjq1xBFU",
        "colab": {
          "base_uri": "https://localhost:8080/"
        },
        "outputId": "9f7ac5b5-fc52-4c4c-bca0-d91335e1e490"
      },
      "source": [
        "print( \"Accuracy -> \", accuracy_score(Test_Y, test_pred), \n",
        "       \"\\nPrecision -> \", precision_score(Test_Y, test_pred),\n",
        "       \"\\nRecall -> \", recall_score(Test_Y, test_pred),\n",
        "       \"\\nF1-Score -> \", f1_score(Test_Y, test_pred))"
      ],
      "execution_count": null,
      "outputs": [
        {
          "output_type": "stream",
          "text": [
            "Accuracy ->  0.83 \n",
            "Precision ->  0.8539325842696629 \n",
            "Recall ->  0.7835051546391752 \n",
            "F1-Score ->  0.8172043010752688\n"
          ],
          "name": "stdout"
        }
      ]
    }
  ]
}